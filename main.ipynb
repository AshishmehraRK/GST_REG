{
 "cells": [
  {
   "cell_type": "code",
   "execution_count": 1,
   "metadata": {},
   "outputs": [],
   "source": [
    "from selenium import webdriver\n",
    "from selenium.webdriver.firefox.service import Service as FirefoxService\n",
    "from selenium.webdriver.firefox.options import Options\n",
    "from selenium.webdriver.common.by import By\n",
    "import time, logging, json  \n",
    "from logger import logger\n",
    "import promoter_partner, authorized_signatory"
   ]
  },
  {
   "cell_type": "code",
   "execution_count": 2,
   "metadata": {},
   "outputs": [],
   "source": [
    "options = Options()\n",
    "# options.add_argument('--headless') \n",
    "# # Initialize Firefox driver\n",
    "driver = webdriver.Firefox(options=options) \n",
    "# Open the GST registration page\n",
    "driver.get(\"https://reg.gst.gov.in/registration/\")"
   ]
  },
  {
   "cell_type": "code",
   "execution_count": 3,
   "metadata": {},
   "outputs": [],
   "source": [
    "from functions import AutomationHelper\n",
    "nigga = AutomationHelper(driver, logger)"
   ]
  },
  {
   "cell_type": "code",
   "execution_count": 4,
   "metadata": {},
   "outputs": [],
   "source": [
    "time.sleep(5)"
   ]
  },
  {
   "cell_type": "code",
   "execution_count": 5,
   "metadata": {},
   "outputs": [],
   "source": [
    "# Import the JSON file\n",
    "with open('config.json','r') as f:\n",
    "    config = json.load(f)\n"
   ]
  },
  {
   "cell_type": "code",
   "execution_count": 6,
   "metadata": {},
   "outputs": [],
   "source": [
    "registration = config['initial_registration_details']"
   ]
  },
  {
   "cell_type": "code",
   "execution_count": null,
   "metadata": {},
   "outputs": [],
   "source": [
    "\n",
    "# Extract required values from JSON\n",
    "registration = config['initial_registration_details']\n",
    "values_to_click = [\n",
    "    registration['selected_taxpayer_type'],\n",
    "    registration['selected_state']\n",
    "]\n",
    "\n",
    "# Wait and click elements dynamically\n",
    "time.sleep(2)\n",
    "for val in values_to_click:\n",
    "    nigga.click_element((By.XPATH, f\"//*[text()='{val}']\"))"
   ]
  },
  {
   "cell_type": "code",
   "execution_count": null,
   "metadata": {},
   "outputs": [],
   "source": [
    "time.sleep(5)\n",
    "district = registration['selected_district']\n",
    "nigga.click_element((By.XPATH, f\"//*[text()='{district}']\"))"
   ]
  },
  {
   "cell_type": "code",
   "execution_count": null,
   "metadata": {},
   "outputs": [],
   "source": [
    "nigga.send_text((By.ID, \"bnm\"), registration['business_name'])"
   ]
  },
  {
   "cell_type": "code",
   "execution_count": null,
   "metadata": {},
   "outputs": [],
   "source": [
    "nigga.send_text((By.ID, \"pan_card\"), registration['pan_card'])"
   ]
  },
  {
   "cell_type": "code",
   "execution_count": null,
   "metadata": {},
   "outputs": [],
   "source": [
    "nigga.send_text((By.ID, \"email\"), registration['email'])"
   ]
  },
  {
   "cell_type": "code",
   "execution_count": null,
   "metadata": {},
   "outputs": [],
   "source": [
    "nigga.send_text((By.ID, \"mobile\"), registration['mobile_number'])"
   ]
  },
  {
   "cell_type": "code",
   "execution_count": null,
   "metadata": {},
   "outputs": [],
   "source": [
    "nigga.solve_and_enter_captcha()"
   ]
  },
  {
   "cell_type": "code",
   "execution_count": null,
   "metadata": {},
   "outputs": [],
   "source": [
    "nigga.click_element((By.XPATH, \"/html/body/div[2]/div[2]/div/div[2]/div/form/div[2]/div/div[2]/div/button\"))"
   ]
  },
  {
   "cell_type": "code",
   "execution_count": 15,
   "metadata": {},
   "outputs": [],
   "source": [
    "otp = nigga.poll_for_otp(\"mobile_otp\")\n",
    "print(otp)\n",
    "nigga.send_text((By.ID, \"mobile_otp\"), otp)"
   ]
  },
  {
   "cell_type": "code",
   "execution_count": 16,
   "metadata": {},
   "outputs": [],
   "source": [
    "otp = nigga.poll_for_otp(\"email_otp\")\n",
    "print(otp)\n",
    "nigga.send_text((By.ID, \"email-otp\"), otp)"
   ]
  },
  {
   "cell_type": "code",
   "execution_count": null,
   "metadata": {},
   "outputs": [],
   "source": [
    "time.sleep(2)\n",
    "nigga.click_element((By.XPATH, \"/html/body/div[2]/div[2]/div/div[2]/div/div[2]/div/form/div/div/button\"))"
   ]
  },
  {
   "cell_type": "code",
   "execution_count": null,
   "metadata": {},
   "outputs": [],
   "source": [
    "# Proceed\n",
    "time.sleep(5)\n",
    "nigga.click_element((By.XPATH, \"/html/body/div[2]/div[2]/div/div[2]/div/div[2]/div/div[2]/div/a\"))"
   ]
  },
  {
   "cell_type": "code",
   "execution_count": 88,
   "metadata": {},
   "outputs": [],
   "source": [
    "otp = nigga.poll_for_otp(\"trn\")\n",
    "print(otp)\n",
    "nigga.send_text((By.ID, \"trnno\"), otp)"
   ]
  },
  {
   "cell_type": "code",
   "execution_count": null,
   "metadata": {},
   "outputs": [],
   "source": [
    "nigga.handle_initial_captcha()"
   ]
  },
  {
   "cell_type": "code",
   "execution_count": null,
   "metadata": {},
   "outputs": [],
   "source": [
    "# Proceed\n",
    "nigga.click_element((By.XPATH, \"/html/body/div[2]/div[2]/div/div[2]/div/form/div[2]/div/div[2]/div/button\"))"
   ]
  },
  {
   "cell_type": "code",
   "execution_count": 91,
   "metadata": {},
   "outputs": [],
   "source": [
    "otp = nigga.poll_for_otp(\"mobile_otp\")\n",
    "print(otp)\n",
    "nigga.send_text((By.ID, \"mobile_otp\"), otp)"
   ]
  },
  {
   "cell_type": "code",
   "execution_count": null,
   "metadata": {},
   "outputs": [],
   "source": [
    "# Proceed\n",
    "nigga.click_element((By.XPATH, \"/html/body/div[2]/div[2]/div/div[2]/div/div[2]/div/form/div/div/button\"))"
   ]
  },
  {
   "cell_type": "code",
   "execution_count": null,
   "metadata": {},
   "outputs": [],
   "source": [
    "# Button Click\n",
    "time.sleep(5)\n",
    "nigga.click_element((By.XPATH, \"/html/body/div[2]/div[1]/div/div[3]/div[2]/div/div/table/tbody/tr/td[6]/button\"))"
   ]
  },
  {
   "cell_type": "markdown",
   "metadata": {},
   "source": [
    "### Business Details"
   ]
  },
  {
   "cell_type": "code",
   "execution_count": null,
   "metadata": {},
   "outputs": [],
   "source": [
    "business_details = config['business_details']\n",
    "time.sleep(5)\n",
    "nigga.send_text((By.ID, \"tnm\"), business_details['trade_name'])"
   ]
  },
  {
   "cell_type": "markdown",
   "metadata": {},
   "source": [
    "Constitution of Business"
   ]
  },
  {
   "cell_type": "code",
   "execution_count": null,
   "metadata": {},
   "outputs": [],
   "source": [
    "time.sleep(2)\n",
    "Constitution_of_Business = business_details['constitution_of_business']\n",
    "nigga.click_element((By.XPATH, f\"//*[text()='{Constitution_of_Business}']\"))"
   ]
  },
  {
   "cell_type": "code",
   "execution_count": null,
   "metadata": {},
   "outputs": [],
   "source": [
    "specific_other = business_details['specific_other_constitution']\n",
    "nigga.send_text((By.ID, \"bd_ConstBuss_oth\"), specific_other)"
   ]
  },
  {
   "cell_type": "code",
   "execution_count": null,
   "metadata": {},
   "outputs": [],
   "source": [
    "Reason_to_obtain_registration = business_details['reason_to_obtain_registration']\n",
    "nigga.click_element((By.XPATH, f\"//*[text()='{Reason_to_obtain_registration}']\"))"
   ]
  },
  {
   "cell_type": "code",
   "execution_count": null,
   "metadata": {},
   "outputs": [],
   "source": [
    "Date_of_commencement_of_Business = business_details['date_of_commencement_of_business'] \n",
    "nigga.send_text((By.ID, \"bd_cmbz\"), Date_of_commencement_of_Business)"
   ]
  },
  {
   "cell_type": "code",
   "execution_count": null,
   "metadata": {},
   "outputs": [],
   "source": [
    "# Use it in your function call\n",
    "nigga.click_element((By.XPATH, \"/html/body/div[2]/div/div/div[3]/form/fieldset/div[1]/div[8]/div/div[1]/select/option[16]\"))"
   ]
  },
  {
   "cell_type": "code",
   "execution_count": null,
   "metadata": {},
   "outputs": [],
   "source": [
    "if business_details.get('type_of_registration'):\n",
    "            type_of_registration = business_details['type_of_registration']\n",
    "            if type_of_registration != \"Others (Please Specify)\":\n",
    "                nigga.click_element((By.ID, \"exty\"))\n",
    "                nigga.click_element((By.XPATH, f\"//option[text()='{type_of_registration}']\"))   \n",
    "            else:\n",
    "                nigga.click_element((By.XPATH, \"/html/body/div[2]/div/div/div[3]/form/fieldset/div[1]/div[8]/div/div[1]/select/option[16]\"))\n",
    "                time.sleep(2)\n",
    "                nigga.send_text((By.ID, \"bd_othrReg\"), business_details['other_registration_type'])\n",
    "            "
   ]
  },
  {
   "cell_type": "code",
   "execution_count": null,
   "metadata": {},
   "outputs": [],
   "source": [
    "Others_Registration = business_details['other_registration_type']\n",
    "nigga.send_text((By.ID, \"bd_othrReg\"), Others_Registration)"
   ]
  },
  {
   "cell_type": "code",
   "execution_count": null,
   "metadata": {},
   "outputs": [],
   "source": [
    "registration_no = business_details['other_registration_number']\n",
    "nigga.send_text((By.ID, \"exno\"), registration_no)"
   ]
  },
  {
   "cell_type": "code",
   "execution_count": null,
   "metadata": {},
   "outputs": [],
   "source": [
    "Date_of_Registration = business_details['date_of_registration']\n",
    "nigga.send_text((By.ID, \"exdt\"), Date_of_Registration)"
   ]
  },
  {
   "cell_type": "code",
   "execution_count": null,
   "metadata": {},
   "outputs": [],
   "source": [
    "nigga.click_element((By.XPATH, \"/html/body/div[2]/div/div/div[3]/form/fieldset/div[1]/div[8]/div/div[5]/button[1]\"))"
   ]
  },
  {
   "cell_type": "code",
   "execution_count": null,
   "metadata": {},
   "outputs": [],
   "source": [
    "nigga.click_element((By.XPATH, \"//*[text()='Registration Certificate']\"))"
   ]
  },
  {
   "cell_type": "code",
   "execution_count": 105,
   "metadata": {},
   "outputs": [],
   "source": [
    "time.sleep(2)\n",
    "driver.find_element(By.CSS_SELECTOR,\"data-file-model.ng-pristine:nth-child(4) > input:nth-child(1)\").send_keys(\"/Users/ashishmehra/Downloads/dummy.pdf\")"
   ]
  },
  {
   "cell_type": "code",
   "execution_count": null,
   "metadata": {},
   "outputs": [],
   "source": [
    "time.sleep(2)\n",
    "nigga.click_element((By.XPATH, \"/html/body/div[2]/div/div/div[3]/form/div/div/button[2]\"))"
   ]
  },
  {
   "cell_type": "code",
   "execution_count": null,
   "metadata": {},
   "outputs": [],
   "source": [
    "promoter_partner.fill_promoter_partner_details(driver)"
   ]
  },
  {
   "cell_type": "code",
   "execution_count": null,
   "metadata": {},
   "outputs": [],
   "source": [
    "authorized_signatory.fill_authorized_signatory_details(driver)"
   ]
  },
  {
   "cell_type": "code",
   "execution_count": null,
   "metadata": {},
   "outputs": [],
   "source": [
    "time.sleep(2)\n",
    "nigga.click_element((By.XPATH, \"/html/body/div[2]/div/div/div[3]/form/div[2]/div[3]/div/button[3]\"))"
   ]
  },
  {
   "cell_type": "code",
   "execution_count": null,
   "metadata": {},
   "outputs": [],
   "source": [
    "time.sleep(5)\n",
    "nigga.click_element((By.XPATH, \"/html/body/div[2]/div/div/div[3]/form/div/div/button[2]\"))"
   ]
  },
  {
   "cell_type": "markdown",
   "metadata": {},
   "source": [
    "### Details of Principal Place of Business"
   ]
  },
  {
   "cell_type": "code",
   "execution_count": 111,
   "metadata": {},
   "outputs": [],
   "source": [
    "principal_business_details = config['principal_place_of_business_details']"
   ]
  },
  {
   "cell_type": "code",
   "execution_count": null,
   "metadata": {},
   "outputs": [],
   "source": [
    "address = principal_business_details['address_map_search']\n",
    "nigga.send_text((By.ID, \"onMapSerachId\"), address)"
   ]
  },
  {
   "cell_type": "code",
   "execution_count": null,
   "metadata": {},
   "outputs": [],
   "source": [
    "time.sleep(2)\n",
    "nigga.click_element((By.XPATH, f\"//*[text()='{address}']\"))"
   ]
  },
  {
   "cell_type": "code",
   "execution_count": null,
   "metadata": {},
   "outputs": [],
   "source": [
    "time.sleep(1)\n",
    "nigga.click_element((By.ID, \"confirm-mapquery-btn3\"))"
   ]
  },
  {
   "cell_type": "code",
   "execution_count": null,
   "metadata": {},
   "outputs": [],
   "source": [
    "pin = principal_business_details['pincode']\n",
    "nigga.send_text((By.ID, \"pncd\"), pin)"
   ]
  },
  {
   "cell_type": "code",
   "execution_count": null,
   "metadata": {},
   "outputs": [],
   "source": [
    "# Buildin_No\n",
    "time.sleep(2)\n",
    "District = principal_business_details['district']\n",
    "nigga.send_text((By.ID, \"dst\"), District)\n",
    "\n",
    "\n",
    "time.sleep(2)\n",
    "City = principal_business_details['city_town_village']\n",
    "nigga.send_text((By.ID, \"loc\"), City)\n",
    "\n",
    "\n",
    "time.sleep(2)\n",
    "Street = principal_business_details['street']\n",
    "nigga.send_text((By.ID, \"st\"), Street)\n",
    "\n",
    "\n",
    "time.sleep(2)\n",
    "Building_no = principal_business_details['building_no']\n",
    "nigga.send_text((By.ID, \"bno\"), Building_no)\n"
   ]
  },
  {
   "cell_type": "code",
   "execution_count": null,
   "metadata": {},
   "outputs": [],
   "source": [
    "time.sleep(5)\n",
    "nigga.click_element((By.ID, \"bp_flrnum\"))"
   ]
  },
  {
   "cell_type": "code",
   "execution_count": null,
   "metadata": {},
   "outputs": [],
   "source": [
    "time.sleep(2)\n",
    "start_jurisdiction = principal_business_details['jurisdiction']['ward']\n",
    "nigga.click_element((By.XPATH, f\"//*[text()='{start_jurisdiction}']\"))"
   ]
  },
  {
   "cell_type": "code",
   "execution_count": null,
   "metadata": {},
   "outputs": [],
   "source": [
    "# Commissionerate\n",
    "time.sleep(1)\n",
    "Commissionerate = principal_business_details['jurisdiction']['commissionerate']\n",
    "nigga.click_element((By.XPATH, f\"//*[text()='{Commissionerate}']\"))"
   ]
  },
  {
   "cell_type": "code",
   "execution_count": null,
   "metadata": {},
   "outputs": [],
   "source": [
    "time.sleep(2)\n",
    "Division = principal_business_details['jurisdiction']['division']\n",
    "nigga.click_element((By.XPATH, f\"//*[text()='{Division}']\"))"
   ]
  },
  {
   "cell_type": "code",
   "execution_count": null,
   "metadata": {},
   "outputs": [],
   "source": [
    "time.sleep(2)\n",
    "Range = principal_business_details['jurisdiction']['range']\n",
    "nigga.click_element((By.XPATH, f\"//*[text()='{Range}']\"))"
   ]
  },
  {
   "cell_type": "code",
   "execution_count": null,
   "metadata": {},
   "outputs": [],
   "source": [
    "time.sleep(2)\n",
    "select = principal_business_details['nature_of_possession_of_premises']\n",
    "nigga.click_element((By.XPATH, f\"//*[text()='{select}']\"))"
   ]
  },
  {
   "cell_type": "code",
   "execution_count": null,
   "metadata": {},
   "outputs": [],
   "source": [
    "time.sleep(2)\n",
    "principal_place = principal_business_details['document_proof']\n",
    "nigga.click_element((By.XPATH, f\"//*[text()='{principal_place}']\"))"
   ]
  },
  {
   "cell_type": "code",
   "execution_count": 124,
   "metadata": {},
   "outputs": [],
   "source": [
    "time.sleep(2)\n",
    "driver.find_element(By.XPATH,'//*[@id=\"bp_upload\"]').send_keys(principal_business_details['document_upload'])"
   ]
  },
  {
   "cell_type": "code",
   "execution_count": 125,
   "metadata": {},
   "outputs": [],
   "source": [
    "time.sleep(2)\n",
    "driver.find_element(By.ID,'bp_upload').send_keys(principal_business_details['document_upload_2'])"
   ]
  },
  {
   "cell_type": "code",
   "execution_count": null,
   "metadata": {},
   "outputs": [],
   "source": [
    "from selenium.webdriver.common.by import By\n",
    "from selenium.webdriver.support.ui import WebDriverWait\n",
    "from selenium.webdriver.support import expected_conditions as EC\n",
    "import time\n",
    "\n",
    "def wait_for_overlay_to_disappear(driver, timeout=20):\n",
    "    try:\n",
    "        WebDriverWait(driver, timeout).until_not(\n",
    "            EC.presence_of_element_located((By.CLASS_NAME, \"dimmer-holder\"))\n",
    "        )\n",
    "    except Exception:\n",
    "        print(\"⚠️ Overlay (.dimmer-holder) did not disappear in time!\")\n",
    "\n",
    "# Get data safely\n",
    "principal_place_of_business_details = config.get(\"principal_place_of_business_details\", {})\n",
    "nature_of_business_list = principal_place_of_business_details.get(\"nature_of_business\", [])\n",
    "\n",
    "# Click the checkboxes\n",
    "for business_nature in nature_of_business_list:\n",
    "    print(f\"Selecting: {business_nature}\")\n",
    "    try:\n",
    "        # Wait for any overlay to disappear\n",
    "        wait_for_overlay_to_disappear(driver)\n",
    "\n",
    "        # Find label matching the business nature\n",
    "        label = driver.find_element(By.XPATH, f\"//label[contains(text(), '{business_nature}')]\")\n",
    "\n",
    "        # Scroll into view\n",
    "        driver.execute_script(\"arguments[0].scrollIntoView({block: 'center'});\", label)\n",
    "        time.sleep(0.5)\n",
    "\n",
    "        # Get associated checkbox using label's 'for' attribute\n",
    "        checkbox_id = label.get_attribute(\"for\")\n",
    "        checkbox = driver.find_element(By.ID, checkbox_id)\n",
    "\n",
    "        # Skip if already selected or disabled\n",
    "        if not checkbox.is_selected() and checkbox.is_enabled():\n",
    "            checkbox.click()\n",
    "            print(f\"✔️ Clicked: {business_nature}\")\n",
    "        else:\n",
    "            print(f\"ℹ️ Skipped: {business_nature} (already selected or disabled)\")\n",
    "    except Exception as e:\n",
    "        print(f\"❌ Error clicking '{business_nature}': {e}\")\n"
   ]
  },
  {
   "cell_type": "code",
   "execution_count": null,
   "metadata": {},
   "outputs": [],
   "source": [
    "time.sleep(1)\n",
    "nigga.click_element((By.XPATH, \"/html/body/div[2]/div/div/div[3]/form/div/div/button[2]\"))"
   ]
  },
  {
   "cell_type": "code",
   "execution_count": null,
   "metadata": {},
   "outputs": [],
   "source": [
    "time.sleep(1)\n",
    "nigga.click_element((By.XPATH, \"/html/body/div[2]/div/div/div[3]/form/div/div[2]/div/button[2]\"))"
   ]
  },
  {
   "cell_type": "code",
   "execution_count": 130,
   "metadata": {},
   "outputs": [],
   "source": [
    "gst_details = config['goods_services_details']"
   ]
  },
  {
   "cell_type": "code",
   "execution_count": 131,
   "metadata": {},
   "outputs": [],
   "source": [
    "driver.find_element(By.ID, \"gs_hsn_value\").send_keys(gst_details['hsn_value'])\n",
    "time.sleep(2)\n",
    "driver.find_element(By.XPATH, f\"//*[text()='{gst_details['hsn_value']}']\").click() #use webdriver wait later and remove time.sleep\n",
    "time.sleep(2)"
   ]
  },
  {
   "cell_type": "code",
   "execution_count": null,
   "metadata": {},
   "outputs": [],
   "source": [
    "time.sleep(1)\n",
    "nigga.click_element((By.XPATH, \"/html/body/div[2]/div/div/div[3]/form/div[2]/div/button\"))"
   ]
  },
  {
   "cell_type": "code",
   "execution_count": 135,
   "metadata": {},
   "outputs": [],
   "source": [
    "time.sleep(1)\n",
    "driver.find_element(By.XPATH,\"/html/body/div[2]/div/div/div[3]/form/div[2]/div/div/button\").click()"
   ]
  },
  {
   "cell_type": "code",
   "execution_count": 136,
   "metadata": {},
   "outputs": [],
   "source": [
    "time.sleep(2)\n",
    "driver.find_element(By.XPATH,\"//*[@type='submit']\").click()"
   ]
  },
  {
   "cell_type": "code",
   "execution_count": null,
   "metadata": {},
   "outputs": [],
   "source": [
    "# Pop Up \n",
    "time.sleep(3)\n",
    "nigga.click_element((By.XPATH, \"/html/body/div[2]/div/div/div[3]/div[2]/div/div/div[2]/button\"))"
   ]
  },
  {
   "cell_type": "code",
   "execution_count": null,
   "metadata": {},
   "outputs": [],
   "source": [
    "time.sleep(3)\n",
    "nigga.click_element((By.XPATH, \"/html/body/div[2]/div/div/div[3]/form/div[2]/div/div/button\"))"
   ]
  },
  {
   "cell_type": "code",
   "execution_count": null,
   "metadata": {},
   "outputs": [],
   "source": [
    "time.sleep(3)\n",
    "# nigga.click_element((By.ID, \"chkboxop0\"))\n",
    "driver.find_element(By.ID, \"chkboxop0\").click()"
   ]
  },
  {
   "cell_type": "code",
   "execution_count": null,
   "metadata": {},
   "outputs": [],
   "source": [
    "time.sleep(3)\n",
    "nigga.click_element((By.XPATH, \"/html/body/div[2]/div/div/div[3]/form/div/div/button\"))"
   ]
  },
  {
   "cell_type": "code",
   "execution_count": null,
   "metadata": {},
   "outputs": [],
   "source": [
    "time.sleep(3)\n",
    "nigga.click_element((By.XPATH, \"/html/body/div[2]/div/div/div[3]/div[2]/div/div/div[2]/button\"))"
   ]
  },
  {
   "cell_type": "code",
   "execution_count": null,
   "metadata": {},
   "outputs": [],
   "source": []
  }
 ],
 "metadata": {
  "kernelspec": {
   "display_name": "venv",
   "language": "python",
   "name": "python3"
  },
  "language_info": {
   "codemirror_mode": {
    "name": "ipython",
    "version": 3
   },
   "file_extension": ".py",
   "mimetype": "text/x-python",
   "name": "python",
   "nbconvert_exporter": "python",
   "pygments_lexer": "ipython3",
   "version": "3.13.0"
  }
 },
 "nbformat": 4,
 "nbformat_minor": 2
}
