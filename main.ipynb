{
 "cells": [
  {
   "cell_type": "code",
   "execution_count": 70,
   "metadata": {},
   "outputs": [],
   "source": [
    "from selenium import webdriver\n",
    "from selenium.webdriver.firefox.service import Service as FirefoxService\n",
    "from selenium.webdriver.firefox.options import Options\n",
    "from selenium.webdriver.common.by import By\n",
    "import time, logging, json  \n",
    "from logger import logger\n",
    "import promoter_partner, authorized_signatory"
   ]
  },
  {
   "cell_type": "code",
   "execution_count": 71,
   "metadata": {},
   "outputs": [],
   "source": [
    "options = Options()\n",
    "# options.add_argument('--headless') \n",
    "# # Initialize Firefox driver\n",
    "driver = webdriver.Firefox(options=options) \n",
    "# Open the GST registration page\n",
    "driver.get(\"https://reg.gst.gov.in/registration/\")"
   ]
  },
  {
   "cell_type": "code",
   "execution_count": 72,
   "metadata": {},
   "outputs": [],
   "source": [
    "from functions import AutomationHelper\n",
    "nigga = AutomationHelper(driver, logger)"
   ]
  },
  {
   "cell_type": "code",
   "execution_count": 73,
   "metadata": {},
   "outputs": [],
   "source": [
    "time.sleep(5)"
   ]
  },
  {
   "cell_type": "code",
   "execution_count": 74,
   "metadata": {},
   "outputs": [],
   "source": [
    "# Import the JSON file\n",
    "with open('config.json','r') as f:\n",
    "    config = json.load(f)\n"
   ]
  },
  {
   "cell_type": "code",
   "execution_count": 75,
   "metadata": {},
   "outputs": [],
   "source": [
    "registration = config['initial_registration_details']"
   ]
  },
  {
   "cell_type": "code",
   "execution_count": 76,
   "metadata": {},
   "outputs": [
    {
     "name": "stderr",
     "output_type": "stream",
     "text": [
      "10:28:06 - INFO - Document is in 'complete' ready state.\n",
      "10:28:07 - INFO - Successfully clicked ('xpath', \"//*[text()='Taxpayer']\").\n",
      "10:28:07 - INFO - Document is in 'complete' ready state.\n",
      "10:28:07 - INFO - Successfully clicked ('xpath', \"//*[text()='Delhi']\").\n"
     ]
    }
   ],
   "source": [
    "\n",
    "# Extract required values from JSON\n",
    "registration = config['initial_registration_details']\n",
    "values_to_click = [\n",
    "    registration['selected_taxpayer_type'],\n",
    "    registration['selected_state']\n",
    "]\n",
    "\n",
    "# Wait and click elements dynamically\n",
    "time.sleep(2)\n",
    "for val in values_to_click:\n",
    "    nigga.click_element((By.XPATH, f\"//*[text()='{val}']\"))"
   ]
  },
  {
   "cell_type": "code",
   "execution_count": 77,
   "metadata": {},
   "outputs": [
    {
     "name": "stderr",
     "output_type": "stream",
     "text": [
      "10:28:15 - INFO - Document is in 'complete' ready state.\n",
      "10:28:15 - INFO - Successfully clicked ('xpath', \"//*[text()='South West Delhi']\").\n"
     ]
    }
   ],
   "source": [
    "time.sleep(5)\n",
    "district = registration['selected_district']\n",
    "nigga.click_element((By.XPATH, f\"//*[text()='{district}']\"))"
   ]
  },
  {
   "cell_type": "code",
   "execution_count": 78,
   "metadata": {},
   "outputs": [
    {
     "name": "stderr",
     "output_type": "stream",
     "text": [
      "10:28:15 - INFO - Document is in 'complete' ready state.\n",
      "10:28:15 - INFO - Successfully sent text to ('id', 'bnm').\n"
     ]
    }
   ],
   "source": [
    "nigga.send_text((By.ID, \"bnm\"), registration['business_name'])"
   ]
  },
  {
   "cell_type": "code",
   "execution_count": 79,
   "metadata": {},
   "outputs": [
    {
     "name": "stderr",
     "output_type": "stream",
     "text": [
      "10:28:19 - INFO - Document is in 'complete' ready state.\n",
      "10:28:19 - INFO - Successfully sent text to ('id', 'pan_card').\n"
     ]
    }
   ],
   "source": [
    "nigga.send_text((By.ID, \"pan_card\"), registration['pan_card'])"
   ]
  },
  {
   "cell_type": "code",
   "execution_count": 80,
   "metadata": {},
   "outputs": [
    {
     "name": "stderr",
     "output_type": "stream",
     "text": [
      "10:28:19 - INFO - Document is in 'complete' ready state.\n",
      "10:28:19 - INFO - Successfully sent text to ('id', 'email').\n"
     ]
    }
   ],
   "source": [
    "nigga.send_text((By.ID, \"email\"), registration['email'])"
   ]
  },
  {
   "cell_type": "code",
   "execution_count": 81,
   "metadata": {},
   "outputs": [
    {
     "name": "stderr",
     "output_type": "stream",
     "text": [
      "10:28:21 - INFO - Document is in 'complete' ready state.\n",
      "10:28:21 - INFO - Successfully sent text to ('id', 'mobile').\n"
     ]
    }
   ],
   "source": [
    "nigga.send_text((By.ID, \"mobile\"), registration['mobile_number'])"
   ]
  },
  {
   "cell_type": "code",
   "execution_count": 82,
   "metadata": {},
   "outputs": [
    {
     "name": "stderr",
     "output_type": "stream",
     "text": [
      "10:28:21 - INFO - Document is in 'complete' ready state.\n",
      "10:28:21 - INFO - Solving captcha via TrueCaptcha API...\n",
      "10:28:21 - INFO - Found captcha image element with ID 'imgCaptcha'.\n",
      "10:28:23 - INFO - CAPTCHA solved by API: 931086\n",
      "10:28:23 - INFO - Document is in 'complete' ready state.\n",
      "10:28:23 - INFO - Successfully sent text to ('id', 'captcha').\n",
      "10:28:23 - INFO - CAPTCHA text entered successfully.\n"
     ]
    }
   ],
   "source": [
    "nigga.solve_and_enter_captcha()"
   ]
  },
  {
   "cell_type": "code",
   "execution_count": 83,
   "metadata": {},
   "outputs": [
    {
     "name": "stderr",
     "output_type": "stream",
     "text": [
      "10:28:25 - INFO - Document is in 'complete' ready state.\n",
      "10:28:25 - INFO - Successfully clicked ('xpath', '/html/body/div[2]/div[2]/div/div[2]/div/form/div[2]/div/div[2]/div/button').\n"
     ]
    }
   ],
   "source": [
    "nigga.click_element((By.XPATH, \"/html/body/div[2]/div[2]/div/div[2]/div/form/div[2]/div/div[2]/div/button\"))"
   ]
  },
  {
   "cell_type": "code",
   "execution_count": 84,
   "metadata": {},
   "outputs": [],
   "source": [
    "# otp = nigga.poll_for_otp(\"mobile_otp\")\n",
    "# print(otp)\n",
    "# nigga.send_text((By.ID, \"mobile_otp\"), otp)"
   ]
  },
  {
   "cell_type": "code",
   "execution_count": 85,
   "metadata": {},
   "outputs": [],
   "source": [
    "# otp = nigga.poll_for_otp(\"email_otp\")\n",
    "# print(otp)\n",
    "# nigga.send_text((By.ID, \"email-otp\"), otp)"
   ]
  },
  {
   "cell_type": "code",
   "execution_count": 86,
   "metadata": {},
   "outputs": [
    {
     "name": "stderr",
     "output_type": "stream",
     "text": [
      "10:29:14 - INFO - Document is in 'complete' ready state.\n",
      "10:29:14 - INFO - Successfully clicked ('xpath', '/html/body/div[2]/div[2]/div/div[2]/div/div[2]/div/form/div/div/button').\n"
     ]
    }
   ],
   "source": [
    "time.sleep(2)\n",
    "nigga.click_element((By.XPATH, \"/html/body/div[2]/div[2]/div/div[2]/div/div[2]/div/form/div/div/button\"))"
   ]
  },
  {
   "cell_type": "code",
   "execution_count": 87,
   "metadata": {},
   "outputs": [
    {
     "name": "stderr",
     "output_type": "stream",
     "text": [
      "10:29:22 - INFO - Document is in 'complete' ready state.\n",
      "10:29:22 - INFO - Successfully clicked ('xpath', '/html/body/div[2]/div[2]/div/div[2]/div/div[2]/div/div[2]/div/a').\n"
     ]
    }
   ],
   "source": [
    "# Proceed\n",
    "time.sleep(5)\n",
    "nigga.click_element((By.XPATH, \"/html/body/div[2]/div[2]/div/div[2]/div/div[2]/div/div[2]/div/a\"))"
   ]
  },
  {
   "cell_type": "code",
   "execution_count": 88,
   "metadata": {},
   "outputs": [],
   "source": [
    "# otp = nigga.poll_for_otp(\"trn\")\n",
    "# print(otp)\n",
    "# nigga.send_text((By.ID, \"trnno\"), otp)"
   ]
  },
  {
   "cell_type": "code",
   "execution_count": 89,
   "metadata": {},
   "outputs": [
    {
     "name": "stderr",
     "output_type": "stream",
     "text": [
      "10:29:45 - INFO - Document is in 'complete' ready state.\n",
      "10:29:45 - INFO - Solving captcha via TrueCaptcha API...\n",
      "10:29:45 - INFO - Found visible CAPTCHA image with ID 'imgCaptcha'.\n",
      "10:29:47 - INFO - CAPTCHA solved: 484270\n",
      "10:29:47 - INFO - Document is in 'complete' ready state.\n",
      "10:29:47 - INFO - Successfully sent text to ('id', 'captchatrn').\n",
      "10:29:47 - INFO - CAPTCHA entered successfully into input with ID 'captchatrn'.\n"
     ]
    }
   ],
   "source": [
    "nigga.handle_initial_captcha()"
   ]
  },
  {
   "cell_type": "code",
   "execution_count": 90,
   "metadata": {},
   "outputs": [
    {
     "name": "stderr",
     "output_type": "stream",
     "text": [
      "10:29:49 - INFO - Document is in 'complete' ready state.\n",
      "10:29:49 - INFO - Successfully clicked ('xpath', '/html/body/div[2]/div[2]/div/div[2]/div/form/div[2]/div/div[2]/div/button').\n"
     ]
    }
   ],
   "source": [
    "# Proceed\n",
    "nigga.click_element((By.XPATH, \"/html/body/div[2]/div[2]/div/div[2]/div/form/div[2]/div/div[2]/div/button\"))"
   ]
  },
  {
   "cell_type": "code",
   "execution_count": 91,
   "metadata": {},
   "outputs": [],
   "source": [
    "# otp = nigga.poll_for_otp(\"mobile_otp\")\n",
    "# print(otp)\n",
    "# nigga.send_text((By.ID, \"mobile_otp\"), otp)"
   ]
  },
  {
   "cell_type": "code",
   "execution_count": 92,
   "metadata": {},
   "outputs": [
    {
     "name": "stderr",
     "output_type": "stream",
     "text": [
      "10:30:05 - INFO - Document is in 'complete' ready state.\n",
      "10:30:07 - INFO - Successfully clicked ('xpath', '/html/body/div[2]/div[2]/div/div[2]/div/div[2]/div/form/div/div/button').\n"
     ]
    }
   ],
   "source": [
    "# Proceed\n",
    "nigga.click_element((By.XPATH, \"/html/body/div[2]/div[2]/div/div[2]/div/div[2]/div/form/div/div/button\"))"
   ]
  },
  {
   "cell_type": "code",
   "execution_count": 93,
   "metadata": {},
   "outputs": [
    {
     "name": "stderr",
     "output_type": "stream",
     "text": [
      "10:30:14 - INFO - Document is in 'complete' ready state.\n",
      "10:30:14 - INFO - Successfully clicked ('xpath', '/html/body/div[2]/div[1]/div/div[3]/div[2]/div/div/table/tbody/tr/td[6]/button').\n"
     ]
    }
   ],
   "source": [
    "# Button Click\n",
    "time.sleep(5)\n",
    "nigga.click_element((By.XPATH, \"/html/body/div[2]/div[1]/div/div[3]/div[2]/div/div/table/tbody/tr/td[6]/button\"))"
   ]
  },
  {
   "cell_type": "markdown",
   "metadata": {},
   "source": [
    "### Business Details"
   ]
  },
  {
   "cell_type": "code",
   "execution_count": 94,
   "metadata": {},
   "outputs": [
    {
     "name": "stderr",
     "output_type": "stream",
     "text": [
      "10:30:22 - INFO - Document is in 'complete' ready state.\n",
      "10:30:22 - INFO - Successfully sent text to ('id', 'tnm').\n"
     ]
    }
   ],
   "source": [
    "business_details = config['business_details']\n",
    "time.sleep(5)\n",
    "nigga.send_text((By.ID, \"tnm\"), business_details['trade_name'])"
   ]
  },
  {
   "cell_type": "markdown",
   "metadata": {},
   "source": [
    "Constitution of Business"
   ]
  },
  {
   "cell_type": "code",
   "execution_count": 95,
   "metadata": {},
   "outputs": [
    {
     "name": "stderr",
     "output_type": "stream",
     "text": [
      "10:30:26 - INFO - Document is in 'complete' ready state.\n",
      "10:30:27 - INFO - Successfully clicked ('xpath', \"//*[text()='Others']\").\n"
     ]
    }
   ],
   "source": [
    "time.sleep(2)\n",
    "Constitution_of_Business = business_details['constitution_of_business']\n",
    "nigga.click_element((By.XPATH, f\"//*[text()='{Constitution_of_Business}']\"))"
   ]
  },
  {
   "cell_type": "code",
   "execution_count": 96,
   "metadata": {},
   "outputs": [
    {
     "name": "stderr",
     "output_type": "stream",
     "text": [
      "10:30:28 - INFO - Document is in 'complete' ready state.\n",
      "10:30:28 - INFO - Successfully sent text to ('id', 'bd_ConstBuss_oth').\n"
     ]
    }
   ],
   "source": [
    "specific_other = business_details['specific_other_constitution']\n",
    "nigga.send_text((By.ID, \"bd_ConstBuss_oth\"), specific_other)"
   ]
  },
  {
   "cell_type": "code",
   "execution_count": 97,
   "metadata": {},
   "outputs": [
    {
     "name": "stderr",
     "output_type": "stream",
     "text": [
      "10:30:29 - INFO - Document is in 'complete' ready state.\n",
      "10:30:29 - INFO - Successfully clicked ('xpath', \"//*[text()='Voluntary Basis']\").\n"
     ]
    }
   ],
   "source": [
    "Reason_to_obtain_registration = business_details['reason_to_obtain_registration']\n",
    "nigga.click_element((By.XPATH, f\"//*[text()='{Reason_to_obtain_registration}']\"))"
   ]
  },
  {
   "cell_type": "code",
   "execution_count": 98,
   "metadata": {},
   "outputs": [
    {
     "name": "stderr",
     "output_type": "stream",
     "text": [
      "10:30:30 - INFO - Document is in 'complete' ready state.\n",
      "10:30:30 - INFO - Successfully sent text to ('id', 'bd_cmbz').\n"
     ]
    }
   ],
   "source": [
    "Date_of_commencement_of_Business = business_details['date_of_commencement_of_business'] \n",
    "nigga.send_text((By.ID, \"bd_cmbz\"), Date_of_commencement_of_Business)"
   ]
  },
  {
   "cell_type": "code",
   "execution_count": 99,
   "metadata": {},
   "outputs": [
    {
     "name": "stderr",
     "output_type": "stream",
     "text": [
      "10:30:31 - INFO - Document is in 'complete' ready state.\n",
      "10:30:32 - INFO - Successfully clicked ('xpath', '/html/body/div[2]/div/div/div[3]/form/fieldset/div[1]/div[8]/div/div[1]/select/option[16]').\n"
     ]
    }
   ],
   "source": [
    "# Use it in your function call\n",
    "nigga.click_element((By.XPATH, \"/html/body/div[2]/div/div/div[3]/form/fieldset/div[1]/div[8]/div/div[1]/select/option[16]\"))"
   ]
  },
  {
   "cell_type": "code",
   "execution_count": 100,
   "metadata": {},
   "outputs": [
    {
     "name": "stderr",
     "output_type": "stream",
     "text": [
      "10:30:33 - INFO - Document is in 'complete' ready state.\n",
      "10:30:33 - INFO - Successfully sent text to ('id', 'bd_othrReg').\n"
     ]
    }
   ],
   "source": [
    "Others_Registration = business_details['other_registration_type']\n",
    "nigga.send_text((By.ID, \"bd_othrReg\"), Others_Registration)"
   ]
  },
  {
   "cell_type": "code",
   "execution_count": 101,
   "metadata": {},
   "outputs": [
    {
     "name": "stderr",
     "output_type": "stream",
     "text": [
      "10:30:34 - INFO - Document is in 'complete' ready state.\n",
      "10:30:34 - INFO - Successfully sent text to ('id', 'exno').\n"
     ]
    }
   ],
   "source": [
    "registration_no = business_details['other_registration_number']\n",
    "nigga.send_text((By.ID, \"exno\"), registration_no)"
   ]
  },
  {
   "cell_type": "code",
   "execution_count": 102,
   "metadata": {},
   "outputs": [
    {
     "name": "stderr",
     "output_type": "stream",
     "text": [
      "10:30:35 - INFO - Document is in 'complete' ready state.\n",
      "10:30:35 - INFO - Successfully sent text to ('id', 'exdt').\n"
     ]
    }
   ],
   "source": [
    "Date_of_Registration = business_details['date_of_registration']\n",
    "nigga.send_text((By.ID, \"exdt\"), Date_of_Registration)"
   ]
  },
  {
   "cell_type": "code",
   "execution_count": 103,
   "metadata": {},
   "outputs": [
    {
     "name": "stderr",
     "output_type": "stream",
     "text": [
      "10:30:37 - INFO - Document is in 'complete' ready state.\n",
      "10:30:37 - INFO - Successfully clicked ('xpath', '/html/body/div[2]/div/div/div[3]/form/fieldset/div[1]/div[8]/div/div[5]/button[1]').\n"
     ]
    }
   ],
   "source": [
    "nigga.click_element((By.XPATH, \"/html/body/div[2]/div/div/div[3]/form/fieldset/div[1]/div[8]/div/div[5]/button[1]\"))"
   ]
  },
  {
   "cell_type": "code",
   "execution_count": 104,
   "metadata": {},
   "outputs": [
    {
     "name": "stderr",
     "output_type": "stream",
     "text": [
      "10:30:40 - INFO - Document is in 'complete' ready state.\n",
      "10:30:40 - INFO - Successfully clicked ('xpath', \"//*[text()='Registration Certificate']\").\n"
     ]
    }
   ],
   "source": [
    "nigga.click_element((By.XPATH, \"//*[text()='Registration Certificate']\"))"
   ]
  },
  {
   "cell_type": "code",
   "execution_count": 105,
   "metadata": {},
   "outputs": [],
   "source": [
    "time.sleep(2)\n",
    "driver.find_element(By.CSS_SELECTOR,\"data-file-model.ng-pristine:nth-child(4) > input:nth-child(1)\").send_keys(\"/Users/ashishmehra/Downloads/dummy.pdf\")"
   ]
  },
  {
   "cell_type": "code",
   "execution_count": 106,
   "metadata": {},
   "outputs": [
    {
     "name": "stderr",
     "output_type": "stream",
     "text": [
      "10:30:46 - INFO - Document is in 'complete' ready state.\n",
      "10:30:46 - INFO - Successfully clicked ('xpath', '/html/body/div[2]/div/div/div[3]/form/div/div/button[2]').\n"
     ]
    }
   ],
   "source": [
    "time.sleep(2)\n",
    "nigga.click_element((By.XPATH, \"/html/body/div[2]/div/div/div[3]/form/div/div/button[2]\"))"
   ]
  },
  {
   "cell_type": "code",
   "execution_count": 107,
   "metadata": {},
   "outputs": [
    {
     "name": "stderr",
     "output_type": "stream",
     "text": [
      "10:30:49 - INFO - Filling details for promoter: Ashish Mehra\n",
      "10:30:59 - INFO - Filling personal information...\n",
      "10:30:59 - INFO - Document is in 'complete' ready state.\n",
      "10:30:59 - INFO - Successfully sent text to ('id', 'fnm').\n",
      "10:30:59 - INFO - ✓ First name filled\n",
      "10:30:59 - INFO - Document is in 'complete' ready state.\n",
      "10:30:59 - INFO - Successfully sent text to ('id', 'pd_mname').\n",
      "10:30:59 - INFO - ✓ Middle name filled\n",
      "10:30:59 - INFO - Document is in 'complete' ready state.\n",
      "10:30:59 - INFO - Successfully sent text to ('id', 'pd_lname').\n",
      "10:30:59 - INFO - ✓ Last name filled\n",
      "10:30:59 - INFO - Filling father details...\n",
      "10:30:59 - INFO - Document is in 'complete' ready state.\n",
      "10:30:59 - INFO - Successfully sent text to ('id', 'ffname').\n",
      "10:30:59 - INFO - ✓ Father first name filled\n",
      "10:30:59 - INFO - Document is in 'complete' ready state.\n",
      "10:30:59 - INFO - Successfully sent text to ('id', 'pd_fmname').\n",
      "10:30:59 - INFO - ✓ Father middle name filled\n",
      "10:30:59 - INFO - Document is in 'complete' ready state.\n",
      "10:30:59 - INFO - Successfully sent text to ('id', 'pd_flname').\n",
      "10:30:59 - INFO - ✓ Father last name filled\n",
      "10:30:59 - INFO - Filling additional personal details...\n",
      "10:30:59 - INFO - Document is in 'complete' ready state.\n",
      "10:30:59 - INFO - Successfully sent text to ('id', 'dob').\n",
      "10:30:59 - INFO - ✓ Date of birth filled\n",
      "10:30:59 - INFO - Document is in 'complete' ready state.\n",
      "10:30:59 - INFO - Successfully sent text to ('id', 'mbno').\n",
      "10:30:59 - INFO - ✓ Mobile number filled\n",
      "10:30:59 - INFO - Document is in 'complete' ready state.\n",
      "10:30:59 - INFO - Successfully sent text to ('id', 'pd_email').\n",
      "10:30:59 - INFO - ✓ Email filled\n",
      "10:30:59 - INFO - Selecting gender...\n",
      "10:31:10 - INFO - ✓ Male gender selected\n",
      "10:31:10 - INFO - Filling professional details...\n",
      "10:31:10 - INFO - Document is in 'complete' ready state.\n",
      "10:31:10 - INFO - Successfully sent text to ('id', 'dg').\n",
      "10:31:10 - INFO - ✓ Designation filled\n",
      "10:31:10 - INFO - Document is in 'complete' ready state.\n",
      "10:31:10 - INFO - Successfully sent text to ('id', 'din').\n",
      "10:31:10 - INFO - ✓ Director ID filled\n",
      "10:31:10 - INFO - Handling citizenship details...\n",
      "10:31:10 - INFO - Document is in 'complete' ready state.\n",
      "10:31:10 - INFO - Successfully sent text to ('id', 'pan').\n",
      "10:31:10 - INFO - ✓ PAN number filled\n",
      "10:31:10 - INFO - Filling address details...\n",
      "10:31:10 - INFO - Document is in 'complete' ready state.\n",
      "10:31:10 - INFO - Successfully sent text to ('id', 'onMapSerachId').\n",
      "10:31:10 - INFO - ✓ Address search field filled\n",
      "10:31:24 - INFO - ✓ Address suggestion clicked\n",
      "10:31:36 - INFO - ✓ Address confirmation clicked\n",
      "10:31:36 - INFO - Filling building details...\n",
      "10:31:36 - INFO - Document is in 'complete' ready state.\n",
      "10:31:36 - INFO - Successfully sent text to ('id', 'pd_bdnum').\n",
      "10:31:36 - INFO - ✓ Building number filled\n",
      "10:31:36 - INFO - Uploading document...\n",
      "10:31:36 - INFO - Document is in 'complete' ready state.\n",
      "10:31:36 - INFO - Successfully sent text to ('id', 'pd_upload').\n",
      "10:31:36 - INFO - ✓ Document uploaded\n",
      "10:31:36 - INFO - Handling authorized signatory option...\n",
      "10:31:46 - INFO - ✓ Authorized signatory option selected\n",
      "10:31:46 - INFO - Successfully completed filling details for Ashish Mehra\n",
      "10:31:46 - INFO - Document is in 'complete' ready state.\n",
      "10:31:49 - INFO - Successfully clicked ('xpath', '/html/body/div[2]/div/div/div[3]/form/div[2]/div[2]/div/button[3]').\n",
      "10:31:49 - INFO - Successfully clicked Save & Continue for promoter 1\n",
      "10:31:51 - INFO - All promoters processed. Clicking final Save & Continue button.\n",
      "10:32:06 - INFO - Successfully clicked final Save & Continue.\n"
     ]
    }
   ],
   "source": [
    "promoter_partner.fill_promoter_partner_details(driver)"
   ]
  },
  {
   "cell_type": "code",
   "execution_count": 108,
   "metadata": {},
   "outputs": [
    {
     "name": "stderr",
     "output_type": "stream",
     "text": [
      "10:32:06 - INFO - Starting to fill details for 1 authorized signatories\n",
      "10:32:06 - INFO - Processing signatory 1/1: \n",
      "10:32:06 - INFO - Filling details for signatory:  \n",
      "10:32:08 - INFO - Document is in 'complete' ready state.\n",
      "10:32:08 - INFO - Successfully clicked ('xpath', '/html/body/div[2]/div/div/div[3]/form/div[2]/fieldset[2]/div/div[2]/div/fieldset/div/select/option[2]').\n",
      "10:32:08 - INFO - Last signatory processed. Clicking final 'Save & Continue'.\n",
      "10:32:09 - INFO - Successfully clicked final 'Save & Continue' for Authorized Signatory section.\n",
      "10:32:12 - INFO - Completed authorized signatory details filling process\n"
     ]
    }
   ],
   "source": [
    "authorized_signatory.fill_authorized_signatory_details(driver)"
   ]
  },
  {
   "cell_type": "code",
   "execution_count": 109,
   "metadata": {},
   "outputs": [
    {
     "name": "stderr",
     "output_type": "stream",
     "text": [
      "10:32:31 - INFO - Document is in 'complete' ready state.\n",
      "10:32:32 - INFO - Successfully clicked ('xpath', '/html/body/div[2]/div/div/div[3]/form/div[2]/div[3]/div/button[3]').\n"
     ]
    }
   ],
   "source": [
    "time.sleep(2)\n",
    "nigga.click_element((By.XPATH, \"/html/body/div[2]/div/div/div[3]/form/div[2]/div[3]/div/button[3]\"))"
   ]
  },
  {
   "cell_type": "code",
   "execution_count": 110,
   "metadata": {},
   "outputs": [
    {
     "name": "stderr",
     "output_type": "stream",
     "text": [
      "10:32:39 - INFO - Document is in 'complete' ready state.\n",
      "10:32:39 - INFO - Successfully clicked ('xpath', '/html/body/div[2]/div/div/div[3]/form/div/div/button[2]').\n"
     ]
    }
   ],
   "source": [
    "time.sleep(5)\n",
    "nigga.click_element((By.XPATH, \"/html/body/div[2]/div/div/div[3]/form/div/div/button[2]\"))"
   ]
  },
  {
   "cell_type": "markdown",
   "metadata": {},
   "source": [
    "### Details of Principal Place of Business"
   ]
  },
  {
   "cell_type": "code",
   "execution_count": 111,
   "metadata": {},
   "outputs": [],
   "source": [
    "principal_business_details = config['principal_place_of_business_details']"
   ]
  },
  {
   "cell_type": "code",
   "execution_count": 112,
   "metadata": {},
   "outputs": [
    {
     "name": "stderr",
     "output_type": "stream",
     "text": [
      "10:32:45 - INFO - Document is in 'complete' ready state.\n",
      "10:32:47 - INFO - Successfully sent text to ('id', 'onMapSerachId').\n"
     ]
    }
   ],
   "source": [
    "address = principal_business_details['address_map_search']\n",
    "nigga.send_text((By.ID, \"onMapSerachId\"), address)"
   ]
  },
  {
   "cell_type": "code",
   "execution_count": 113,
   "metadata": {},
   "outputs": [
    {
     "name": "stderr",
     "output_type": "stream",
     "text": [
      "10:32:49 - INFO - Document is in 'complete' ready state.\n",
      "10:32:50 - INFO - Successfully clicked ('xpath', \"//*[text()='110071']\").\n"
     ]
    }
   ],
   "source": [
    "time.sleep(2)\n",
    "nigga.click_element((By.XPATH, f\"//*[text()='{address}']\"))"
   ]
  },
  {
   "cell_type": "code",
   "execution_count": 114,
   "metadata": {},
   "outputs": [
    {
     "name": "stderr",
     "output_type": "stream",
     "text": [
      "10:32:54 - INFO - Document is in 'complete' ready state.\n",
      "10:32:55 - INFO - Successfully clicked ('id', 'confirm-mapquery-btn3').\n"
     ]
    }
   ],
   "source": [
    "time.sleep(1)\n",
    "nigga.click_element((By.ID, \"confirm-mapquery-btn3\"))"
   ]
  },
  {
   "cell_type": "code",
   "execution_count": 115,
   "metadata": {},
   "outputs": [
    {
     "name": "stderr",
     "output_type": "stream",
     "text": [
      "10:32:55 - INFO - Document is in 'complete' ready state.\n",
      "10:32:55 - INFO - Successfully sent text to ('id', 'pncd').\n"
     ]
    }
   ],
   "source": [
    "pin = principal_business_details['pincode']\n",
    "nigga.send_text((By.ID, \"pncd\"), pin)"
   ]
  },
  {
   "cell_type": "code",
   "execution_count": 116,
   "metadata": {},
   "outputs": [
    {
     "name": "stderr",
     "output_type": "stream",
     "text": [
      "10:33:13 - INFO - Document is in 'complete' ready state.\n",
      "10:33:15 - INFO - Successfully sent text to ('id', 'dst').\n",
      "10:33:17 - INFO - Document is in 'complete' ready state.\n",
      "10:33:18 - INFO - Successfully sent text to ('id', 'loc').\n",
      "10:33:20 - INFO - Document is in 'complete' ready state.\n",
      "10:33:20 - INFO - Successfully sent text to ('id', 'st').\n",
      "10:33:22 - INFO - Document is in 'complete' ready state.\n",
      "10:33:22 - INFO - Successfully sent text to ('id', 'bno').\n"
     ]
    }
   ],
   "source": [
    "# Buildin_No\n",
    "time.sleep(2)\n",
    "District = principal_business_details['district']\n",
    "nigga.send_text((By.ID, \"dst\"), District)\n",
    "\n",
    "\n",
    "time.sleep(2)\n",
    "City = principal_business_details['city_town_village']\n",
    "nigga.send_text((By.ID, \"loc\"), City)\n",
    "\n",
    "\n",
    "time.sleep(2)\n",
    "Street = principal_business_details['street']\n",
    "nigga.send_text((By.ID, \"st\"), Street)\n",
    "\n",
    "\n",
    "time.sleep(2)\n",
    "Building_no = principal_business_details['building_no']\n",
    "nigga.send_text((By.ID, \"bno\"), Building_no)\n"
   ]
  },
  {
   "cell_type": "code",
   "execution_count": 117,
   "metadata": {},
   "outputs": [
    {
     "name": "stderr",
     "output_type": "stream",
     "text": [
      "10:33:27 - INFO - Document is in 'complete' ready state.\n",
      "10:33:27 - INFO - Successfully clicked ('id', 'bp_flrnum').\n"
     ]
    }
   ],
   "source": [
    "time.sleep(5)\n",
    "nigga.click_element((By.ID, \"bp_flrnum\"))"
   ]
  },
  {
   "cell_type": "code",
   "execution_count": 118,
   "metadata": {},
   "outputs": [
    {
     "name": "stderr",
     "output_type": "stream",
     "text": [
      "10:33:29 - INFO - Document is in 'complete' ready state.\n",
      "10:33:30 - INFO - Successfully clicked ('xpath', \"//*[text()='Ward 1']\").\n"
     ]
    }
   ],
   "source": [
    "time.sleep(2)\n",
    "start_jurisdiction = principal_business_details['jurisdiction']['ward']\n",
    "nigga.click_element((By.XPATH, f\"//*[text()='{start_jurisdiction}']\"))"
   ]
  },
  {
   "cell_type": "code",
   "execution_count": 119,
   "metadata": {},
   "outputs": [
    {
     "name": "stderr",
     "output_type": "stream",
     "text": [
      "10:33:33 - INFO - Document is in 'complete' ready state.\n",
      "10:33:33 - INFO - Successfully clicked ('xpath', \"//*[text()='DELHI SOUTH']\").\n"
     ]
    }
   ],
   "source": [
    "# Commissionerate\n",
    "time.sleep(1)\n",
    "Commissionerate = principal_business_details['jurisdiction']['commissionerate']\n",
    "nigga.click_element((By.XPATH, f\"//*[text()='{Commissionerate}']\"))"
   ]
  },
  {
   "cell_type": "code",
   "execution_count": 120,
   "metadata": {},
   "outputs": [
    {
     "name": "stderr",
     "output_type": "stream",
     "text": [
      "10:33:35 - INFO - Document is in 'complete' ready state.\n",
      "10:33:35 - INFO - Successfully clicked ('xpath', \"//*[text()='DWARKA']\").\n"
     ]
    }
   ],
   "source": [
    "time.sleep(2)\n",
    "Division = principal_business_details['jurisdiction']['division']\n",
    "nigga.click_element((By.XPATH, f\"//*[text()='{Division}']\"))"
   ]
  },
  {
   "cell_type": "code",
   "execution_count": 121,
   "metadata": {},
   "outputs": [
    {
     "name": "stderr",
     "output_type": "stream",
     "text": [
      "10:33:37 - INFO - Document is in 'complete' ready state.\n",
      "10:33:37 - INFO - Successfully clicked ('xpath', \"//*[text()='RANGE - 81']\").\n"
     ]
    }
   ],
   "source": [
    "time.sleep(2)\n",
    "Range = principal_business_details['jurisdiction']['range']\n",
    "nigga.click_element((By.XPATH, f\"//*[text()='{Range}']\"))"
   ]
  },
  {
   "cell_type": "code",
   "execution_count": 122,
   "metadata": {},
   "outputs": [
    {
     "name": "stderr",
     "output_type": "stream",
     "text": [
      "10:33:53 - INFO - Document is in 'complete' ready state.\n",
      "10:33:53 - INFO - Successfully clicked ('xpath', \"//*[text()='Others']\").\n"
     ]
    }
   ],
   "source": [
    "time.sleep(2)\n",
    "select = principal_business_details['nature_of_possession_of_premises']\n",
    "nigga.click_element((By.XPATH, f\"//*[text()='{select}']\"))"
   ]
  },
  {
   "cell_type": "code",
   "execution_count": 123,
   "metadata": {},
   "outputs": [
    {
     "name": "stderr",
     "output_type": "stream",
     "text": [
      "10:33:55 - INFO - Document is in 'complete' ready state.\n",
      "10:33:56 - INFO - Successfully clicked ('xpath', \"//*[text()='Legal ownership document']\").\n"
     ]
    }
   ],
   "source": [
    "time.sleep(2)\n",
    "principal_place = principal_business_details['document_proof']\n",
    "nigga.click_element((By.XPATH, f\"//*[text()='{principal_place}']\"))"
   ]
  },
  {
   "cell_type": "code",
   "execution_count": 124,
   "metadata": {},
   "outputs": [],
   "source": [
    "time.sleep(2)\n",
    "driver.find_element(By.XPATH,'//*[@id=\"bp_upload\"]').send_keys(principal_business_details['document_upload'])"
   ]
  },
  {
   "cell_type": "code",
   "execution_count": 125,
   "metadata": {},
   "outputs": [],
   "source": [
    "time.sleep(2)\n",
    "driver.find_element(By.ID,'bp_upload').send_keys(principal_business_details['document_upload_2'])"
   ]
  },
  {
   "cell_type": "code",
   "execution_count": 127,
   "metadata": {},
   "outputs": [
    {
     "name": "stdout",
     "output_type": "stream",
     "text": [
      "Selecting: Bonded Warehouse\n",
      "⚠️ Overlay (.dimmer-holder) did not disappear in time!\n",
      "✔️ Clicked: Bonded Warehouse\n",
      "Selecting: Export\n",
      "⚠️ Overlay (.dimmer-holder) did not disappear in time!\n",
      "✔️ Clicked: Export\n"
     ]
    }
   ],
   "source": [
    "from selenium.webdriver.common.by import By\n",
    "from selenium.webdriver.support.ui import WebDriverWait\n",
    "from selenium.webdriver.support import expected_conditions as EC\n",
    "import time\n",
    "\n",
    "def wait_for_overlay_to_disappear(driver, timeout=20):\n",
    "    try:\n",
    "        WebDriverWait(driver, timeout).until_not(\n",
    "            EC.presence_of_element_located((By.CLASS_NAME, \"dimmer-holder\"))\n",
    "        )\n",
    "    except Exception:\n",
    "        print(\"⚠️ Overlay (.dimmer-holder) did not disappear in time!\")\n",
    "\n",
    "# Get data safely\n",
    "principal_place_of_business_details = config.get(\"principal_place_of_business_details\", {})\n",
    "nature_of_business_list = principal_place_of_business_details.get(\"nature_of_business\", [])\n",
    "\n",
    "# Click the checkboxes\n",
    "for business_nature in nature_of_business_list:\n",
    "    print(f\"Selecting: {business_nature}\")\n",
    "    try:\n",
    "        # Wait for any overlay to disappear\n",
    "        wait_for_overlay_to_disappear(driver)\n",
    "\n",
    "        # Find label matching the business nature\n",
    "        label = driver.find_element(By.XPATH, f\"//label[contains(text(), '{business_nature}')]\")\n",
    "\n",
    "        # Scroll into view\n",
    "        driver.execute_script(\"arguments[0].scrollIntoView({block: 'center'});\", label)\n",
    "        time.sleep(0.5)\n",
    "\n",
    "        # Get associated checkbox using label's 'for' attribute\n",
    "        checkbox_id = label.get_attribute(\"for\")\n",
    "        checkbox = driver.find_element(By.ID, checkbox_id)\n",
    "\n",
    "        # Skip if already selected or disabled\n",
    "        if not checkbox.is_selected() and checkbox.is_enabled():\n",
    "            checkbox.click()\n",
    "            print(f\"✔️ Clicked: {business_nature}\")\n",
    "        else:\n",
    "            print(f\"ℹ️ Skipped: {business_nature} (already selected or disabled)\")\n",
    "    except Exception as e:\n",
    "        print(f\"❌ Error clicking '{business_nature}': {e}\")\n"
   ]
  },
  {
   "cell_type": "code",
   "execution_count": 128,
   "metadata": {},
   "outputs": [
    {
     "name": "stderr",
     "output_type": "stream",
     "text": [
      "10:38:07 - INFO - Document is in 'complete' ready state.\n",
      "10:38:10 - INFO - Successfully clicked ('xpath', '/html/body/div[2]/div/div/div[3]/form/div/div/button[2]').\n"
     ]
    }
   ],
   "source": [
    "time.sleep(1)\n",
    "nigga.click_element((By.XPATH, \"/html/body/div[2]/div/div/div[3]/form/div/div/button[2]\"))"
   ]
  },
  {
   "cell_type": "code",
   "execution_count": 129,
   "metadata": {},
   "outputs": [
    {
     "name": "stderr",
     "output_type": "stream",
     "text": [
      "10:38:16 - INFO - Document is in 'complete' ready state.\n",
      "10:38:16 - INFO - Successfully clicked ('xpath', '/html/body/div[2]/div/div/div[3]/form/div/div[2]/div/button[2]').\n"
     ]
    }
   ],
   "source": [
    "time.sleep(1)\n",
    "nigga.click_element((By.XPATH, \"/html/body/div[2]/div/div/div[3]/form/div/div[2]/div/button[2]\"))"
   ]
  },
  {
   "cell_type": "code",
   "execution_count": 130,
   "metadata": {},
   "outputs": [],
   "source": [
    "gst_details = config['goods_services_details']"
   ]
  },
  {
   "cell_type": "code",
   "execution_count": 131,
   "metadata": {},
   "outputs": [],
   "source": [
    "driver.find_element(By.ID, \"gs_hsn_value\").send_keys(gst_details['hsn_value'])\n",
    "time.sleep(2)\n",
    "driver.find_element(By.XPATH, f\"//*[text()='{gst_details['hsn_value']}']\").click() #use webdriver wait later and remove time.sleep\n",
    "time.sleep(2)"
   ]
  },
  {
   "cell_type": "code",
   "execution_count": 132,
   "metadata": {},
   "outputs": [
    {
     "name": "stderr",
     "output_type": "stream",
     "text": [
      "10:38:32 - INFO - Document is in 'complete' ready state.\n",
      "10:38:33 - INFO - Successfully clicked ('xpath', '/html/body/div[2]/div/div/div[3]/form/div[2]/div/button').\n"
     ]
    }
   ],
   "source": [
    "time.sleep(1)\n",
    "nigga.click_element((By.XPATH, \"/html/body/div[2]/div/div/div[3]/form/div[2]/div/button\"))"
   ]
  },
  {
   "cell_type": "code",
   "execution_count": 135,
   "metadata": {},
   "outputs": [],
   "source": [
    "time.sleep(1)\n",
    "driver.find_element(By.XPATH,\"/html/body/div[2]/div/div/div[3]/form/div[2]/div/div/button\").click()"
   ]
  },
  {
   "cell_type": "code",
   "execution_count": 136,
   "metadata": {},
   "outputs": [],
   "source": [
    "time.sleep(2)\n",
    "driver.find_element(By.XPATH,\"//*[@type='submit']\").click()"
   ]
  },
  {
   "cell_type": "code",
   "execution_count": 138,
   "metadata": {},
   "outputs": [
    {
     "name": "stderr",
     "output_type": "stream",
     "text": [
      "10:43:09 - INFO - Document is in 'complete' ready state.\n",
      "10:43:10 - INFO - Successfully clicked ('xpath', '/html/body/div[2]/div/div/div[3]/div[2]/div/div/div[2]/button').\n"
     ]
    }
   ],
   "source": [
    "# Pop Up \n",
    "time.sleep(3)\n",
    "nigga.click_element((By.XPATH, \"/html/body/div[2]/div/div/div[3]/div[2]/div/div/div[2]/button\"))"
   ]
  },
  {
   "cell_type": "code",
   "execution_count": null,
   "metadata": {},
   "outputs": [],
   "source": [
    "time.sleep(3)\n",
    "nigga.click_element((By.XPATH, \"/html/body/div[2]/div/div/div[3]/form/div[2]/div/div/button\"))"
   ]
  },
  {
   "cell_type": "code",
   "execution_count": 146,
   "metadata": {},
   "outputs": [],
   "source": [
    "time.sleep(3)\n",
    "# nigga.click_element((By.ID, \"chkboxop0\"))\n",
    "driver.find_element(By.ID, \"chkboxop0\").click()"
   ]
  },
  {
   "cell_type": "code",
   "execution_count": 147,
   "metadata": {},
   "outputs": [
    {
     "name": "stderr",
     "output_type": "stream",
     "text": [
      "11:00:44 - INFO - Document is in 'complete' ready state.\n",
      "11:00:45 - INFO - Successfully clicked ('xpath', '/html/body/div[2]/div/div/div[3]/form/div/div/button').\n"
     ]
    }
   ],
   "source": [
    "time.sleep(3)\n",
    "nigga.click_element((By.XPATH, \"/html/body/div[2]/div/div/div[3]/form/div/div/button\"))"
   ]
  },
  {
   "cell_type": "code",
   "execution_count": null,
   "metadata": {},
   "outputs": [],
   "source": [
    "time.sleep(3)\n",
    "nigga.click_element((By.XPATH, \"/html/body/div[2]/div/div/div[3]/div[2]/div/div/div[2]/button\"))"
   ]
  },
  {
   "cell_type": "code",
   "execution_count": null,
   "metadata": {},
   "outputs": [],
   "source": []
  }
 ],
 "metadata": {
  "kernelspec": {
   "display_name": "venv",
   "language": "python",
   "name": "python3"
  },
  "language_info": {
   "codemirror_mode": {
    "name": "ipython",
    "version": 3
   },
   "file_extension": ".py",
   "mimetype": "text/x-python",
   "name": "python",
   "nbconvert_exporter": "python",
   "pygments_lexer": "ipython3",
   "version": "3.13.0"
  }
 },
 "nbformat": 4,
 "nbformat_minor": 2
}
